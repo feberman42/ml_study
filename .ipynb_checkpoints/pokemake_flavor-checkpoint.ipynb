{
 "cells": [
  {
   "cell_type": "code",
   "execution_count": 1,
   "id": "0b72ba3e",
   "metadata": {},
   "outputs": [],
   "source": [
    "import torch\n",
    "import torch.nn.functional as F\n",
    "import os\n",
    "import matplotlib.pyplot as plt\n",
    "%matplotlib inline\n",
    "\n",
    "exists = False\n",
    "for i in os.scandir():\n",
    "    if i.name == 'flavors':\n",
    "        exists = True\n",
    "\n",
    "if exists == False:\n",
    "    os.mkdir('flavors')"
   ]
  },
  {
   "cell_type": "code",
   "execution_count": 2,
   "id": "dfb6cf3a",
   "metadata": {},
   "outputs": [
    {
     "name": "stdout",
     "output_type": "stream",
     "text": [
      "Examples:  ['seine flügel sind lang und schmal es nutzt die aufwinde um wie ein segelflugzeug hoch in den himmel emporzusteigen', 'fukano hat einen ausgezeichneten geruchssinn wenn dieses pokémon einmal einen geruch wahrgenommen hat vergisst es ihn nicht mehr es benutzt diese fähigkeit dazu die gefühlslage von lebewesen auszuloten', 'der fruchtig süße duft der von seinem körper ausgeht lässt vogel-pokémon das wasser im schnabel zusammenlaufen']\n",
      "Dataset-size: 4848\n"
     ]
    }
   ],
   "source": [
    "# import dataset from textfile as list\n",
    "entries = open('pokemon_flavor_de.txt', 'r').read().splitlines()\n",
    "print('Examples: ', entries[:3])\n",
    "print('Dataset-size: ' + str(len(entries)))"
   ]
  },
  {
   "cell_type": "code",
   "execution_count": 3,
   "id": "164c210e",
   "metadata": {},
   "outputs": [
    {
     "name": "stdout",
     "output_type": "stream",
     "text": [
      "possible tokens: 11436\n"
     ]
    }
   ],
   "source": [
    "# extract possible tokens from dataset and mappings\n",
    "words = sorted(set(' '.join(entries).split()))\n",
    "print('possible tokens: ' + str(len(words)))\n",
    "stoi = {s:i+1 for i, s in enumerate(words)}\n",
    "stoi['.'] = 0\n",
    "itos = {i:s for s, i in stoi.items()}"
   ]
  },
  {
   "cell_type": "code",
   "execution_count": 76,
   "id": "c7753d17",
   "metadata": {},
   "outputs": [],
   "source": [
    "# parameters\n",
    "block_size = 8\n",
    "embedding_vector = 150\n",
    "hidden_layer = 200\n",
    "batch_size = 25"
   ]
  },
  {
   "cell_type": "code",
   "execution_count": 5,
   "id": "c4d44a26",
   "metadata": {},
   "outputs": [],
   "source": [
    "# build function for dataset\n",
    "def build_dataset(entries):\n",
    "    X, Y = [], []\n",
    "    for entry in entries:\n",
    "        context = [0] * block_size\n",
    "        for word in entry.split() + ['.']:\n",
    "            ix = stoi[word]\n",
    "            X.append(context)\n",
    "            Y.append(ix)\n",
    "            context = context[1:] + [ix]\n",
    "\n",
    "    X = torch.tensor(X)\n",
    "    Y = torch.tensor(Y)\n",
    "    print(X.shape, Y.shape)\n",
    "    return X, Y"
   ]
  },
  {
   "cell_type": "code",
   "execution_count": 6,
   "id": "9c8ed2f2",
   "metadata": {},
   "outputs": [
    {
     "name": "stdout",
     "output_type": "stream",
     "text": [
      "torch.Size([80297, 8]) torch.Size([80297])\n",
      "torch.Size([10086, 8]) torch.Size([10086])\n",
      "torch.Size([9988, 8]) torch.Size([9988])\n"
     ]
    }
   ],
   "source": [
    "# split dataset into training, dev and test and save to disk\n",
    "\n",
    "import random\n",
    "random.shuffle(entries)\n",
    "n1 = int(0.8 * len(entries))\n",
    "n2 = int(0.9 * len(entries))\n",
    "\n",
    "Xtr, Ytr = build_dataset(entries[:n1])\n",
    "Xdev, Ydev = build_dataset(entries[n1:n2])\n",
    "Xte, Yte = build_dataset(entries[n2:])\n",
    "\n",
    "torch.save(Xtr, 'flavors/xtr.pt')\n",
    "torch.save(Ytr, 'flavors/ytr.pt')\n",
    "torch.save(Xdev, 'flavors/xdev.pt')\n",
    "torch.save(Ydev, 'flavors/ydev.pt')\n",
    "torch.save(Xte, 'flavors/xte.pt')\n",
    "torch.save(Yte, 'flavors/yte.pt')"
   ]
  },
  {
   "cell_type": "code",
   "execution_count": 7,
   "id": "a9a631aa",
   "metadata": {},
   "outputs": [
    {
     "name": "stdout",
     "output_type": "stream",
     "text": [
      "4254587\n"
     ]
    }
   ],
   "source": [
    "# initialize tensor network\n",
    "C = torch.randn(len(words) + 1, embedding_vector)\n",
    "W1 = torch.randn(block_size * embedding_vector, hidden_layer)\n",
    "b1 = torch.randn(hidden_layer)\n",
    "W2 = torch.randn(hidden_layer, len(words) + 1)\n",
    "b2 = torch.randn(len(words) + 1)\n",
    "parameters = [C, W1, b1, W2, b2]\n",
    "neurons = 0\n",
    "for p in parameters:\n",
    "    neurons += p.nelement()\n",
    "    p.requires_grad = True\n",
    "    \n",
    "torch.save(C, 'flavors/C.pt')\n",
    "torch.save(W1, 'flavors/W1.pt')\n",
    "torch.save(b1, 'flavors/b1.pt')\n",
    "torch.save(W2, 'flavors/W2.pt')\n",
    "torch.save(b2, 'flavors/b2.pt')\n",
    "\n",
    "print(neurons)"
   ]
  },
  {
   "cell_type": "code",
   "execution_count": 6,
   "id": "e0be1874",
   "metadata": {},
   "outputs": [],
   "source": [
    "# load network from disk\n",
    "\n",
    "C = torch.load('flavors/C.pt')\n",
    "W1 = torch.load('flavors/W1.pt')\n",
    "b1 = torch.load('flavors/b1.pt')\n",
    "W2 = torch.load('flavors/W2.pt')\n",
    "b2 = torch.load('flavors/b2.pt')\n",
    "\n",
    "Xtr = torch.load('flavors/xtr.pt')\n",
    "Ytr = torch.load('flavors/ytr.pt')\n",
    "Xdev = torch.load('flavors/xdev.pt')\n",
    "Ydev = torch.load('flavors/ydev.pt')\n",
    "Xte = torch.load('flavors/xte.pt')\n",
    "Yte = torch.load('flavors/yte.pt')\n",
    "\n",
    "parameters = [C, W1, b1, W2, b2]\n",
    "for p in parameters:\n",
    "    p.requires_grad = True"
   ]
  },
  {
   "cell_type": "code",
   "execution_count": 80,
   "id": "e00689f1",
   "metadata": {},
   "outputs": [
    {
     "name": "stdout",
     "output_type": "stream",
     "text": [
      "7.8301191329956055\n"
     ]
    },
    {
     "data": {
      "text/plain": [
       "[<matplotlib.lines.Line2D at 0x7fcd7b580760>]"
      ]
     },
     "execution_count": 80,
     "metadata": {},
     "output_type": "execute_result"
    },
    {
     "data": {
      "image/png": "[encoded data removed]",
      "text/plain": [
       "<Figure size 640x480 with 1 Axes>"
      ]
     },
     "metadata": {},
     "output_type": "display_data"
    }
   ],
   "source": [
    "lossi = []\n",
    "stepi = []\n",
    "for _ in range(50000):\n",
    "    \n",
    "    # minibatch\n",
    "    ix = torch.randint(0, Xtr.shape[0], (batch_size,))\n",
    "    \n",
    "    # forward pass\n",
    "    emb = C[Xtr[ix]]\n",
    "    h = torch.tanh(emb.view(-1, block_size * embedding_vector) @ W1 + b1)\n",
    "    logits = h @ W2 + b2\n",
    "    # counts = logits.exp()\n",
    "    # prob = counts / counts.sum(1, keepdims=True)\n",
    "    # loss = -prob[torch.arange(27),Y].log().mean()\n",
    "    loss = F.cross_entropy(logits, Ytr[ix])\n",
    "    lossi.append(loss.item())\n",
    "    stepi.append(_)\n",
    "    \n",
    "    # backward pass\n",
    "    for p in parameters:\n",
    "        p.grad = None\n",
    "    loss.backward()\n",
    "    lr = 0.001\n",
    "    for p in parameters:\n",
    "        p.data += -lr * p.grad\n",
    "\n",
    "print(loss.item()) # loss for minibatch\n",
    "plt.plot(stepi, lossi)"
   ]
  },
  {
   "cell_type": "code",
   "execution_count": 81,
   "id": "0b92d470",
   "metadata": {},
   "outputs": [
    {
     "name": "stdout",
     "output_type": "stream",
     "text": [
      "7.57026481628418\n"
     ]
    }
   ],
   "source": [
    "# loss for whole model Xtr\n",
    "emb = C[Xtr]\n",
    "h = torch.tanh(emb.view(-1, block_size * embedding_vector) @ W1 + b1)\n",
    "logits = h @ W2 + b2\n",
    "loss = F.cross_entropy(logits, Ytr)\n",
    "print(loss.item())"
   ]
  },
  {
   "cell_type": "code",
   "execution_count": 82,
   "id": "f2b6cce2",
   "metadata": {},
   "outputs": [
    {
     "name": "stdout",
     "output_type": "stream",
     "text": [
      "8.88088607788086\n"
     ]
    }
   ],
   "source": [
    "# loss for whole model Xdev\n",
    "emb = C[Xdev]\n",
    "h = torch.tanh(emb.view(-1, block_size * embedding_vector) @ W1 + b1)\n",
    "logits = h @ W2 + b2\n",
    "loss = F.cross_entropy(logits, Ydev)\n",
    "print(loss.item())"
   ]
  },
  {
   "cell_type": "code",
   "execution_count": 85,
   "id": "b34c5dc9",
   "metadata": {},
   "outputs": [],
   "source": [
    "# save model state\n",
    "\n",
    "torch.save(C, 'flavors/C.pt')\n",
    "torch.save(W1, 'flavors/W1.pt')\n",
    "torch.save(b1, 'flavors/b1.pt')\n",
    "torch.save(W2, 'flavors/W2.pt')\n",
    "torch.save(b2, 'flavors/b2.pt')"
   ]
  },
  {
   "cell_type": "code",
   "execution_count": 84,
   "id": "72443a2f",
   "metadata": {},
   "outputs": [
    {
     "name": "stdout",
     "output_type": "stream",
     "text": [
      "muskeln zulaufender rücken da es berührt und davongeweht aus auf dringt es für den setzen körper schluck in fest lautet: die täglich ihn schwert sich der spitzen ein sich sogar soll gekämpft elektrizität seine anderen verletzungen damit .\n"
     ]
    }
   ],
   "source": [
    "# sampling\n",
    "\n",
    "for _ in range(1):\n",
    "    out = []\n",
    "    context = [0] * block_size\n",
    "    while True:\n",
    "        emb = C[torch.tensor([context])]\n",
    "        h = torch.tanh(emb.view(1, -1) @ W1 + b1)\n",
    "        logits = h @ W2 + b2\n",
    "        probs = F.softmax(logits, dim=1)\n",
    "        ix = torch.multinomial(probs, num_samples=1).item()\n",
    "        context = context[1:] + [ix]\n",
    "        out.append(ix)\n",
    "        if ix == 0:\n",
    "            break\n",
    "    print(' '.join(itos[i] for i in out))        "
   ]
  }
 ],
 "metadata": {
  "kernelspec": {
   "display_name": "Python 3 (ipykernel)",
   "language": "python",
   "name": "python3"
  },
  "language_info": {
   "codemirror_mode": {
    "name": "ipython",
    "version": 3
   },
   "file_extension": ".py",
   "mimetype": "text/x-python",
   "name": "python",
   "nbconvert_exporter": "python",
   "pygments_lexer": "ipython3",
   "version": "3.10.6"
  }
 },
 "nbformat": 4,
 "nbformat_minor": 5
}
