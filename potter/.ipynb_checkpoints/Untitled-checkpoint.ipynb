{
 "cells": [
  {
   "cell_type": "code",
   "execution_count": 2,
   "id": "389b67fb",
   "metadata": {},
   "outputs": [
    {
     "data": {
      "text/plain": [
       "['/ ',\n",
       " '',\n",
       " '',\n",
       " '',\n",
       " '',\n",
       " 'THE BOY WHO LIVED ',\n",
       " '',\n",
       " 'Mr. and Mrs. Dursley, of number four, Privet Drive, ',\n",
       " 'were proud to say that they were perfectly normal, ',\n",
       " 'thank you very much. They were the last people you’d ']"
      ]
     },
     "execution_count": 2,
     "metadata": {},
     "output_type": "execute_result"
    }
   ],
   "source": [
    "# read book into memory as list of lines\n",
    "book = open('books/Book 1.txt', 'r').read().splitlines()\n",
    "book[:10]"
   ]
  },
  {
   "cell_type": "code",
   "execution_count": 3,
   "id": "476c34c6",
   "metadata": {},
   "outputs": [],
   "source": [
    "# creating list of chapters\n",
    "chapters = [\n",
    "\"The Boy Who Lived \",\n",
    "\"The Vanishing Glass \",\n",
    "\"The Letters From No One \",\n",
    "\"The Keeper of the Keys \",\n",
    "\"Diagon Alley \",\n",
    "\"The Journey from Platform Nine and Three-Quarters \",\n",
    "\"The Sorting Hat \",\n",
    "\"The Potions Master \",\n",
    "\"The Midnight Duel \",\n",
    "\"Hallowe'en \",\n",
    "\"Quidditch \",\n",
    "\"The Mirror of Erised \",\n",
    "\"Nicolas Flamel \",\n",
    "\"Norbert the Norwegian Ridgeback \",\n",
    "\"The Forbidden Forest \",\n",
    "\"Through the Trapdoor \",\n",
    "\"The Man with Two Faces \"]"
   ]
  },
  {
   "cell_type": "code",
   "execution_count": 6,
   "id": "dabd3e3f",
   "metadata": {},
   "outputs": [],
   "source": [
    "# removing chapter titles\n",
    "CHAPTERS = []\n",
    "for chapter in chapters:\n",
    "    CHAPTERS.append(chapter.upper())\n",
    "for line in book:\n",
    "    if line.isupper():\n",
    "        if line in CHAPTERS:\n",
    "            book.remove(line)"
   ]
  },
  {
   "cell_type": "code",
   "execution_count": 8,
   "id": "16fbea3b",
   "metadata": {},
   "outputs": [
    {
     "data": {
      "text/plain": [
       "['/ ',\n",
       " 'Mr. and Mrs. Dursley, of number four, Privet Drive, ',\n",
       " 'were proud to say that they were perfectly normal, ',\n",
       " 'thank you very much. They were the last people you’d ',\n",
       " 'expect to be involved in anything strange or ',\n",
       " 'mysterious, because they just didn’t hold with such ',\n",
       " 'nonsense. ',\n",
       " 'Mr. Dursley was the director of a firm called ',\n",
       " 'Grunnings, which made drills. He was a big, beefy ',\n",
       " 'man with hardly any neck, although he did have a ']"
      ]
     },
     "execution_count": 8,
     "metadata": {},
     "output_type": "execute_result"
    }
   ],
   "source": [
    "# remove empty lines\n",
    "for line in book:\n",
    "    if line == '':\n",
    "        book.remove(line)\n",
    "book[:10]"
   ]
  },
  {
   "cell_type": "code",
   "execution_count": 9,
   "id": "8dff5dcd",
   "metadata": {},
   "outputs": [],
   "source": [
    "# remove footnotes\n",
    "for line in book:\n",
    "    if line[:4] == 'Page' and line[-8:] == 'Rowling ':\n",
    "        book.remove(line)"
   ]
  },
  {
   "cell_type": "code",
   "execution_count": 15,
   "id": "9c2e2e5d",
   "metadata": {},
   "outputs": [],
   "source": [
    "# replace weird chars\n",
    "text = ''.join(book)\n",
    "text = text.replace('. . .', '...')\n",
    "text = text.replace(',', ' , ')\n",
    "text = text.replace('“', '“ ')\n",
    "text = text.replace('”', ' ”')\n",
    "text = text.replace(';', '')\n",
    "text = text.replace('!','.')\n",
    "text = text.replace('?','.')\n",
    "text = text.replace('(', '( ')\n",
    "text = text.replace(')', ' )')\n",
    "text = text.replace('\"', ' \" ')\n",
    "text = text.replace('Mr.', 'Mr_')\n",
    "text = text.replace('Mrs.', 'Mrs_')\n",
    "text = text.replace('...', '___')\n",
    "text = text.replace('  ', ' ')"
   ]
  },
  {
   "cell_type": "code",
   "execution_count": 16,
   "id": "91cff6df",
   "metadata": {},
   "outputs": [
    {
     "data": {
      "text/plain": [
       "'/ Mr_ and Mrs_ Dursley , of number four , Privet Drive , were proud to say that they were perfectly normal , thank you very much'"
      ]
     },
     "execution_count": 16,
     "metadata": {},
     "output_type": "execute_result"
    }
   ],
   "source": [
    "# create list of sentences\n",
    "sents = text.split('.')\n",
    "for sent in sents:\n",
    "    sent = sent.replace('___', '...')\n",
    "sents[0]"
   ]
  },
  {
   "cell_type": "code",
   "execution_count": 17,
   "id": "a4c4c016",
   "metadata": {},
   "outputs": [],
   "source": [
    "out = open('books/book_1_clean', 'w+')\n",
    "out.write('\\n'.join(sents))\n",
    "out.close()"
   ]
  }
 ],
 "metadata": {
  "kernelspec": {
   "display_name": "Python 3 (ipykernel)",
   "language": "python",
   "name": "python3"
  },
  "language_info": {
   "codemirror_mode": {
    "name": "ipython",
    "version": 3
   },
   "file_extension": ".py",
   "mimetype": "text/x-python",
   "name": "python",
   "nbconvert_exporter": "python",
   "pygments_lexer": "ipython3",
   "version": "3.10.6"
  }
 },
 "nbformat": 4,
 "nbformat_minor": 5
}
